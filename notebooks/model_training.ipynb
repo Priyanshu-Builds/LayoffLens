{
 "cells": [
  {
   "cell_type": "code",
   "execution_count": null,
   "id": "99181f24",
   "metadata": {},
   "outputs": [],
   "source": [
    "import pandas as pd\n",
    "import numpy as np\n",
    "import xgboost as xgb\n",
    "from sklearn.model_selection import train_test_split\n",
    "from sklearn.preprocessing import LabelEncoder\n",
    "from sklearn.metrics import accuracy_score, classification_report, confusion_matrix\n",
    "import shap\n",
    "import joblib\n",
    "import matplotlib.pyplot as plt\n",
    "\n",
    "# Load cleaned data\n",
    "df = pd.read_csv('cleaned_layoffs.csv')\n",
    "\n",
    "# Target column (assuming we define a binary outcome)\n",
    "df['layoff_flag'] = (df['percentage_laid_off'] > 0.5).astype(int)\n",
    "\n",
    "# Feature engineering\n",
    "features = ['company', 'industry', 'country', 'stage', 'funds_raised_usd']\n",
    "df = df[features + ['layoff_flag']].dropna()\n",
    "\n",
    "# Encode categoricals\n",
    "le = LabelEncoder()\n",
    "for col in ['company', 'industry', 'country', 'stage']:\n",
    "    df[col] = le.fit_transform(df[col])\n",
    "\n",
    "X = df.drop('layoff_flag', axis=1)\n",
    "y = df['layoff_flag']\n",
    "\n",
    "# Split\n",
    "X_train, X_test, y_train, y_test = train_test_split(X, y, test_size=0.2, random_state=42)\n",
    "\n",
    "# Train model\n",
    "model = xgb.XGBClassifier(use_label_encoder=False, eval_metric='logloss')\n",
    "model.fit(X_train, y_train)\n",
    "\n",
    "# Evaluate\n",
    "y_pred = model.predict(X_test)\n",
    "print(\"Accuracy:\", accuracy_score(y_test, y_pred))\n",
    "print(confusion_matrix(y_test, y_pred))\n",
    "print(classification_report(y_test, y_pred))\n",
    "\n",
    "# SHAP interpretation\n",
    "explainer = shap.Explainer(model)\n",
    "shap_values = explainer(X_test)\n",
    "shap.summary_plot(shap_values, X_test)\n",
    "\n",
    "# Save model\n",
    "joblib.dump(model, '../scripts/xgb_layoff_model.pkl')\n",
    "print(\"Model saved.\")"
   ]
  }
 ],
 "metadata": {
  "language_info": {
   "name": "python"
  }
 },
 "nbformat": 4,
 "nbformat_minor": 5
}
