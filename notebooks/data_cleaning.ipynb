{
 "cells": [
  {
   "cell_type": "code",
   "execution_count": null,
   "id": "1204a3d8",
   "metadata": {},
   "outputs": [],
   "source": [
    "import pandas as pd\n",
    "import seaborn as sns\n",
    "import matplotlib.pyplot as plt\n",
    "\n",
    "# Load dataset\n",
    "df = pd.read_csv('layoffs.csv')\n",
    "print(\"Initial shape:\", df.shape)\n",
    "\n",
    "# Drop missing critical values\n",
    "df.dropna(subset=['company', 'industry'], inplace=True)\n",
    "df['date'] = pd.to_datetime(df['date'], errors='coerce')\n",
    "df['country'] = df['location'].apply(lambda x: x.split(',')[-1].strip())\n",
    "\n",
    "# Visualize missing values\n",
    "sns.heatmap(df.isnull(), cbar=False)\n",
    "plt.title(\"Missing Values Heatmap\")\n",
    "plt.show()\n",
    "\n",
    "# Top companies by number of layoffs\n",
    "top_companies = df['company'].value_counts().head(10)\n",
    "top_companies.plot(kind='barh')\n",
    "plt.title(\"Top 10 Companies by Layoffs\")\n",
    "plt.xlabel(\"Count\")\n",
    "plt.gca().invert_yaxis()\n",
    "plt.show()\n",
    "\n",
    "# Save cleaned data\n",
    "df.to_csv('../data/cleaned_layoffs.csv', index=False)\n",
    "print(\"Cleaned data saved.\")"
   ]
  }
 ],
 "metadata": {
  "language_info": {
   "name": "python"
  }
 },
 "nbformat": 4,
 "nbformat_minor": 5
}
